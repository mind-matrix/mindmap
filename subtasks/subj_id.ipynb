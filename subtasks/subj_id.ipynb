{
 "cells": [
  {
   "cell_type": "code",
   "execution_count": 10,
   "metadata": {},
   "outputs": [],
   "source": [
    "import sys\n",
    "import os\n",
    "\n",
    "module_path = os.path.abspath(os.path.join('..'))\n",
    "if module_path not in sys.path:\n",
    "    sys.path.append(module_path+\"\\\\datasets\")"
   ]
  },
  {
   "cell_type": "code",
   "execution_count": 22,
   "metadata": {},
   "outputs": [],
   "source": [
    "from wikipedia.extract import extract\n",
    "\n",
    "df_train = extract(\"../datasets/wikipedia/raw/wikipedia.train\")\n",
    "df_test = extract(\"../datasets/wikipedia/raw/wikipedia.test\")"
   ]
  },
  {
   "cell_type": "code",
   "execution_count": 26,
   "metadata": {},
   "outputs": [],
   "source": [
    "df_rels = df.loc[df['rel'] != 'no_relation']"
   ]
  },
  {
   "cell_type": "code",
   "execution_count": 29,
   "metadata": {},
   "outputs": [
    {
     "data": {
      "text/html": [
       "<div>\n",
       "<style scoped>\n",
       "    .dataframe tbody tr th:only-of-type {\n",
       "        vertical-align: middle;\n",
       "    }\n",
       "\n",
       "    .dataframe tbody tr th {\n",
       "        vertical-align: top;\n",
       "    }\n",
       "\n",
       "    .dataframe thead th {\n",
       "        text-align: right;\n",
       "    }\n",
       "</style>\n",
       "<table border=\"1\" class=\"dataframe\">\n",
       "  <thead>\n",
       "    <tr style=\"text-align: right;\">\n",
       "      <th></th>\n",
       "      <th>rel</th>\n",
       "      <th>tokens</th>\n",
       "      <th>h_start</th>\n",
       "      <th>h_end</th>\n",
       "      <th>t_start</th>\n",
       "      <th>t_end</th>\n",
       "      <th>extra_pos</th>\n",
       "      <th>extra_ner</th>\n",
       "      <th>extra_head</th>\n",
       "      <th>extra_deprel</th>\n",
       "    </tr>\n",
       "  </thead>\n",
       "  <tbody>\n",
       "    <tr>\n",
       "      <th>9</th>\n",
       "      <td>org:city_of_headquarters</td>\n",
       "      <td>[Taiwan, 's, Chunghwa, Telecom, Co, plans, to,...</td>\n",
       "      <td>2</td>\n",
       "      <td>3</td>\n",
       "      <td>0</td>\n",
       "      <td>0</td>\n",
       "      <td>[NNP, POS, NNP, NNP, NNP, VBZ, TO, VB, CD, CD,...</td>\n",
       "      <td>[LOCATION, O, ORGANIZATION, ORGANIZATION, ORGA...</td>\n",
       "      <td>[5, 1, 5, 5, 6, 44, 8, 6, 10, 13, 13, 13, 8, 1...</td>\n",
       "      <td>[nmod:poss, case, compound, compound, nsubj, c...</td>\n",
       "    </tr>\n",
       "    <tr>\n",
       "      <th>16</th>\n",
       "      <td>org:city_of_headquarters</td>\n",
       "      <td>[John, Acerra, ,, 50, ,, of, Allentown, ,, Pen...</td>\n",
       "      <td>17</td>\n",
       "      <td>19</td>\n",
       "      <td>21</td>\n",
       "      <td>21</td>\n",
       "      <td>[NNP, NNP, ,, CD, ,, IN, NNP, ,, NNP, ,, VBD, ...</td>\n",
       "      <td>[PERSON, PERSON, O, NUMBER, O, O, LOCATION, O,...</td>\n",
       "      <td>[2, 12, 2, 2, 2, 7, 2, 7, 7, 7, 12, 0, 12, 16,...</td>\n",
       "      <td>[compound, nsubjpass, punct, amod, punct, case...</td>\n",
       "    </tr>\n",
       "  </tbody>\n",
       "</table>\n",
       "</div>"
      ],
      "text/plain": [
       "                         rel  \\\n",
       "9   org:city_of_headquarters   \n",
       "16  org:city_of_headquarters   \n",
       "\n",
       "                                               tokens  h_start  h_end  \\\n",
       "9   [Taiwan, 's, Chunghwa, Telecom, Co, plans, to,...        2      3   \n",
       "16  [John, Acerra, ,, 50, ,, of, Allentown, ,, Pen...       17     19   \n",
       "\n",
       "    t_start  t_end                                          extra_pos  \\\n",
       "9         0      0  [NNP, POS, NNP, NNP, NNP, VBZ, TO, VB, CD, CD,...   \n",
       "16       21     21  [NNP, NNP, ,, CD, ,, IN, NNP, ,, NNP, ,, VBD, ...   \n",
       "\n",
       "                                            extra_ner  \\\n",
       "9   [LOCATION, O, ORGANIZATION, ORGANIZATION, ORGA...   \n",
       "16  [PERSON, PERSON, O, NUMBER, O, O, LOCATION, O,...   \n",
       "\n",
       "                                           extra_head  \\\n",
       "9   [5, 1, 5, 5, 6, 44, 8, 6, 10, 13, 13, 13, 8, 1...   \n",
       "16  [2, 12, 2, 2, 2, 7, 2, 7, 7, 7, 12, 0, 12, 16,...   \n",
       "\n",
       "                                         extra_deprel  \n",
       "9   [nmod:poss, case, compound, compound, nsubj, c...  \n",
       "16  [compound, nsubjpass, punct, amod, punct, case...  "
      ]
     },
     "execution_count": 29,
     "metadata": {},
     "output_type": "execute_result"
    }
   ],
   "source": [
    "df_rels.head()"
   ]
  },
  {
   "cell_type": "code",
   "execution_count": 9,
   "metadata": {},
   "outputs": [
    {
     "name": "stdout",
     "output_type": "stream",
     "text": [
      "[<a href=\"/wiki/United_States_Office_of_Economic_Opportunity\" relation=\"member_of\" title=\"United States Office of Economic Opportunity\">United States Office of Economic Opportunity</a>, <a href=\"/wiki/Donald_Rumsfeld\" relation=\"associate\" title=\"Donald Rumsfeld\">Donald Rumsfeld</a>, <a href=\"/wiki/Gerald_Ford\" relation=\"superior\" title=\"Gerald Ford\">Gerald Ford</a>, <a href=\"/wiki/White_House_Chief_of_Staff\" relation=\"job_title\" title=\"White House Chief of Staff\">White House Chief of Staff</a>, <a href=\"/wiki/James_Baker\" relation=\"associate\" title=\"James Baker\">James Baker</a>]\n"
     ]
    }
   ],
   "source": []
  }
 ],
 "metadata": {
  "kernelspec": {
   "display_name": "Python 3",
   "language": "python",
   "name": "python3"
  },
  "language_info": {
   "codemirror_mode": {
    "name": "ipython",
    "version": 3
   },
   "file_extension": ".py",
   "mimetype": "text/x-python",
   "name": "python",
   "nbconvert_exporter": "python",
   "pygments_lexer": "ipython3",
   "version": "3.7.7"
  }
 },
 "nbformat": 4,
 "nbformat_minor": 4
}
