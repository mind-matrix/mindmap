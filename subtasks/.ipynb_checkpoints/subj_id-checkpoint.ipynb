{
 "cells": [
  {
   "cell_type": "code",
   "execution_count": 1,
   "metadata": {},
   "outputs": [],
   "source": [
    "import sys\n",
    "import os\n",
    "\n",
    "module_path = os.path.abspath(os.path.join('..'))\n",
    "if module_path not in sys.path:\n",
    "    sys.path.append(module_path+\"\\\\datasets\")"
   ]
  },
  {
   "cell_type": "code",
   "execution_count": 2,
   "metadata": {},
   "outputs": [],
   "source": [
    "from wikipedia.extract import extract\n",
    "\n",
    "df_train, train_stats = extract(\"../datasets/wikipedia/raw/wikipedia.train\")\n",
    "df_test, test_stats = extract(\"../datasets/wikipedia/raw/wikipedia.test\")"
   ]
  },
  {
   "cell_type": "code",
   "execution_count": 3,
   "metadata": {},
   "outputs": [
    {
     "name": "stdout",
     "output_type": "stream",
     "text": [
      "                                          input_text        target_text  \\\n",
      "0  In recognition of Darwin s pre eminence he was...     Charles Darwin   \n",
      "1  Adams s most important contributions to Americ...  John Quincy Adams   \n",
      "2  LaWanda Page October 19 1920 September 14 2002...       LaWanda Page   \n",
      "3  Born in Randolph County North Carolina Jordan ...  B. Everett Jordan   \n",
      "4  Aldous Leonard Huxley July 26 1894 November 22...      Aldous Huxley   \n",
      "\n",
      "    prefix  \n",
      "0  subj_id  \n",
      "1  subj_id  \n",
      "2  subj_id  \n",
      "3  subj_id  \n",
      "4  subj_id  \n",
      "                                          input_text      target_text   prefix\n",
      "0  Dick Cheney s public service career began unde...      Dick Cheney  subj_id\n",
      "1  Earling Carothers Garrison November 20 1921 Oc...     Jim Garrison  subj_id\n",
      "2  In 1816 when Lincoln was seven years old he an...  Abraham Lincoln  subj_id\n",
      "3  Clive Jay Davis born April 4 1934 is the found...      Clive Davis  subj_id\n",
      "4  Carroll was formerly the head coach of the New...     Pete Carroll  subj_id\n"
     ]
    }
   ],
   "source": [
    "train = df_train[['text', 'subject']].copy()\n",
    "train.columns = ['input_text', 'target_text']\n",
    "train[\"input_text\"] = train[\"input_text\"].apply(lambda x: \" \".join(x))\n",
    "train[\"prefix\"] = \"subj_id\"\n",
    "\n",
    "test = df_test[['text', 'subject']].copy()\n",
    "test.columns = ['input_text', 'target_text']\n",
    "test[\"input_text\"] = test[\"input_text\"].apply(lambda x: \" \".join(x))\n",
    "test[\"prefix\"] = \"subj_id\"\n",
    "\n",
    "print(train.head())\n",
    "print(test.head())"
   ]
  },
  {
   "cell_type": "code",
   "execution_count": 3,
   "metadata": {},
   "outputs": [],
   "source": [
    "from simpletransformers.t5 import T5Model, T5Args\n",
    "\n",
    "model_args = T5Args()\n",
    "model_args.num_train_epochs = 5\n",
    "model_args.fp16 = False\n",
    "model_args.overwrite_output_dir = True\n",
    "model_args.use_early_stopping = True\n",
    "model_args.early_stopping_delta = 0.01\n",
    "model_args.early_stopping_patience = 5\n",
    "model_args.evaluate_generated_text = True\n",
    "model_args.evaluate_during_training = True\n",
    "model_args.evaluate_during_training_verbose = True\n",
    "\n",
    "# change this to t5-base for training\n",
    "model = T5Model(\"outputs/best_model\", args=model_args, use_cuda=False)\n",
    "\n",
    "def avg_sim(labels, preds):\n",
    "    return sum([ textdistance(labels[i], preds[i]) for i in range(len(preds))]) / len(preds)"
   ]
  },
  {
   "cell_type": "code",
   "execution_count": null,
   "metadata": {},
   "outputs": [],
   "source": [
    "# For training\n",
    "model.train_model(train, eval_data=test, matches=avg_sim)"
   ]
  },
  {
   "cell_type": "code",
   "execution_count": null,
   "metadata": {},
   "outputs": [],
   "source": [
    "# For evaluating\n",
    "model.eval_model(test, matches=avg_sim)"
   ]
  },
  {
   "cell_type": "code",
   "execution_count": 6,
   "metadata": {},
   "outputs": [
    {
     "data": {
      "application/vnd.jupyter.widget-view+json": {
       "model_id": "2ca5d42728474b74a16d8bf06e616885",
       "version_major": 2,
       "version_minor": 0
      },
      "text/plain": [
       "HBox(children=(FloatProgress(value=0.0, description='Generating outputs', max=1.0, style=ProgressStyle(descrip…"
      ]
     },
     "metadata": {},
     "output_type": "display_data"
    },
    {
     "name": "stdout",
     "output_type": "stream",
     "text": [
      "\n"
     ]
    },
    {
     "data": {
      "application/vnd.jupyter.widget-view+json": {
       "model_id": "1b33f388b6f2449ca2c28cf3082e30cb",
       "version_major": 2,
       "version_minor": 0
      },
      "text/plain": [
       "HBox(children=(FloatProgress(value=0.0, description='Decoding outputs', max=3.0, style=ProgressStyle(descripti…"
      ]
     },
     "metadata": {},
     "output_type": "display_data"
    },
    {
     "name": "stdout",
     "output_type": "stream",
     "text": [
      "\n",
      "['Atlantis', 'Aryabhata', 'Betty Botter']\n"
     ]
    }
   ],
   "source": [
    "# Example\n",
    "predictions = model.predict([\n",
    "    \"subj_id: Atlantis (Ancient Greek: Ἀτλαντὶς νῆσος, 'island of Atlas') is a fictional island mentioned in an allegory on the hubris of nations in Plato's works Timaeus and Critias, where it represents the antagonist naval power that besieges 'Ancient Athens', the pseudo-historic embodiment of Plato's ideal state in The Republic. In the story, Athens repels the Atlantean attack unlike any other nation of the known world,[2] supposedly bearing witness to the superiority of Plato's concept of a state. The story concludes with Atlantis falling out of favor with the deities and submerging into the Atlantic Ocean.\",\n",
    "    \"subj_id: It is fairly certain that, at some point, he went to Kusumapura for advanced studies and lived there for some time. Both Hindu and Buddhist tradition, as well as Bhāskara I (CE 629), identify Kusumapura as Pāṭaliputra, modern Patna. A verse mentions that Aryabhata was the head of an institution (kulapa) at Kusumapura, and, because the university of Nalanda was in Pataliputra at the time and had an astronomical observatory, it is speculated that Aryabhata might have been the head of the Nalanda university as well. Aryabhata is also reputed to have set up an observatory at the Sun temple in Taregana, Bihar.\",\n",
    "    \"subj_id: Betty Botter bought some butter from the market but the butter was bitter and made her batter butter bitter so Betty bought some better butter to make the bitter batter butter better.\"\n",
    "])\n",
    "\n",
    "print(predictions)"
   ]
  }
 ],
 "metadata": {
  "kernelspec": {
   "display_name": "Python 3",
   "language": "python",
   "name": "python3"
  },
  "language_info": {
   "codemirror_mode": {
    "name": "ipython",
    "version": 3
   },
   "file_extension": ".py",
   "mimetype": "text/x-python",
   "name": "python",
   "nbconvert_exporter": "python",
   "pygments_lexer": "ipython3",
   "version": "3.7.7"
  }
 },
 "nbformat": 4,
 "nbformat_minor": 4
}
